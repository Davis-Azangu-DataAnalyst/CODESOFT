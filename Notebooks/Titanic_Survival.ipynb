{
 "cells": [
  {
   "cell_type": "markdown",
   "metadata": {},
   "source": [
    "### __TITANIC SURVIVAL PREDICTION__"
   ]
  },
  {
   "cell_type": "markdown",
   "metadata": {},
   "source": [
    "\n",
    "**Problem Statement:**\n",
    "Develop a predictive model using the Titanic dataset to determine the likelihood of a passenger surviving the sinking of the Titanic. Utilizing information such as age, gender, ticket class, fare, and cabin, the model aims to accurately classify passengers into survived or not survived categories. This project serves as a fundamental exercise in data analysis and predictive modeling, offering insights into the factors influencing survival rates aboard the Titanic.\n",
    "\n",
    "**Goal:** The goal is to create a predictive model using the Titanic dataset to accurately determine whether a passenger survived or not based on various attributes."
   ]
  },
  {
   "cell_type": "markdown",
   "metadata": {},
   "source": [
    "#### __1.1 Analytical Questions__"
   ]
  },
  {
   "cell_type": "markdown",
   "metadata": {},
   "source": [
    "#### __1.2 Hypothesis__\n",
    "\n",
    "**Null hypothesis:**\n",
    "\n",
    "**Alternative hypothesis:**"
   ]
  },
  {
   "cell_type": "markdown",
   "metadata": {},
   "source": [
    "**Dataset Columns**\n",
    "\n",
    "\n",
    "**Survived:** Whether survived or not.\n",
    "\n",
    "**Pclass:** Passenger class. 1 is first class, 2 second class, 3 third class. \n",
    "\n",
    "**Name:** Name of passenger.\n",
    "\n",
    "**Age:** Age of passenger. \n",
    "\n",
    "**SibSp:** Information about passenger's siblings and spouse.  \n",
    "\n",
    "**Parch:** Information about passenger's parents and children. \n",
    "\n",
    "**Ticket:** Ticket number of passengers. \n",
    "\n",
    "**Fare:** Fare paid by passengers.  \n",
    "\n",
    "**Cabin:** Cabin number of the passengers. \n",
    "\n",
    "**Embarked:** Information about port of embarkation. C is Cherbourg, Q is Queenstown, S is Southampton. \n"
   ]
  },
  {
   "cell_type": "markdown",
   "metadata": {},
   "source": [
    "**Null hypothesis:** Age did not affect the survival rate in the Titanic.\n",
    "\n",
    "**Alternative hypothesis:** Age did affect the survival rate in the Titanic."
   ]
  },
  {
   "cell_type": "markdown",
   "metadata": {},
   "source": [
    "__1.3 Analytical Questions__"
   ]
  },
  {
   "cell_type": "markdown",
   "metadata": {},
   "source": [
    "1. What is survival rate for men and women?\n",
    "\n",
    "2. Did passengers in first class had higher survival rate than those in second and third class?\n",
    "\n",
    "3. Did age affect survival rate?\n",
    "\n",
    "4. What was passengers' age distribution in the Titanic?\n",
    "\n",
    "5. Did location of passengers' cabin affect survival rate?"
   ]
  },
  {
   "cell_type": "markdown",
   "metadata": {},
   "source": [
    "#### __2. Data Understanding__"
   ]
  },
  {
   "cell_type": "markdown",
   "metadata": {},
   "source": [
    "__1.3 Importation of Libraries__"
   ]
  },
  {
   "cell_type": "code",
   "execution_count": 101,
   "metadata": {},
   "outputs": [],
   "source": [
    "# For Data Manipulation\n",
    "import pandas as pd\n",
    "import numpy as np\n",
    "import scipy.stats as stats\n",
    "from scipy.stats import chi2_contingency\n",
    "import re\n",
    "#For Visualization\n",
    "import matplotlib.pyplot as plt \n",
    "import seaborn as sns\n",
    "# For Machine Learning\n",
    "from sklearn.model_selection import train_test_split\n",
    "from sklearn.preprocessing import LabelEncoder\n",
    "from sklearn.pipeline import Pipeline\n",
    "from sklearn.impute import SimpleImputer\n",
    "from sklearn.preprocessing import StandardScaler, OneHotEncoder\n",
    "from sklearn.tree import DecisionTreeClassifier\n",
    "from sklearn.linear_model import LogisticRegression\n",
    "from sklearn.neighbors import KNeighborsClassifier\n",
    "from sklearn.ensemble import RandomForestClassifier\n",
    "from sklearn.compose import ColumnTransformer\n",
    "from sklearn.metrics import classification_report\n",
    "from sklearn.model_selection import GridSearchCV \n",
    "import joblib\n",
    "\n",
    "# For Filter Warnings\n",
    "import warnings\n",
    "warnings.filterwarnings(\"ignore\")"
   ]
  },
  {
   "cell_type": "markdown",
   "metadata": {},
   "source": [
    "__2.1 Data Loading__"
   ]
  },
  {
   "cell_type": "code",
   "execution_count": 102,
   "metadata": {},
   "outputs": [],
   "source": [
    "# Loading of dataset\n",
    "titanic_df = pd.read_csv(r'C:\\Users\\USER\\Documents\\Azubi Africa Class\\CodSoft Internship\\CODESOFT\\Data TITANIC\\Titanic-Dataset.csv')"
   ]
  },
  {
   "cell_type": "markdown",
   "metadata": {},
   "source": [
    "__2.2 Exploratory Data Analysis (EDA)__"
   ]
  },
  {
   "cell_type": "code",
   "execution_count": 103,
   "metadata": {},
   "outputs": [
    {
     "data": {
      "text/html": [
       "<div>\n",
       "<style scoped>\n",
       "    .dataframe tbody tr th:only-of-type {\n",
       "        vertical-align: middle;\n",
       "    }\n",
       "\n",
       "    .dataframe tbody tr th {\n",
       "        vertical-align: top;\n",
       "    }\n",
       "\n",
       "    .dataframe thead th {\n",
       "        text-align: right;\n",
       "    }\n",
       "</style>\n",
       "<table border=\"1\" class=\"dataframe\">\n",
       "  <thead>\n",
       "    <tr style=\"text-align: right;\">\n",
       "      <th></th>\n",
       "      <th>PassengerId</th>\n",
       "      <th>Survived</th>\n",
       "      <th>Pclass</th>\n",
       "      <th>Name</th>\n",
       "      <th>Sex</th>\n",
       "      <th>Age</th>\n",
       "      <th>SibSp</th>\n",
       "      <th>Parch</th>\n",
       "      <th>Ticket</th>\n",
       "      <th>Fare</th>\n",
       "      <th>Cabin</th>\n",
       "      <th>Embarked</th>\n",
       "    </tr>\n",
       "  </thead>\n",
       "  <tbody>\n",
       "    <tr>\n",
       "      <th>0</th>\n",
       "      <td>1</td>\n",
       "      <td>0</td>\n",
       "      <td>3</td>\n",
       "      <td>Braund, Mr. Owen Harris</td>\n",
       "      <td>male</td>\n",
       "      <td>22.0</td>\n",
       "      <td>1</td>\n",
       "      <td>0</td>\n",
       "      <td>A/5 21171</td>\n",
       "      <td>7.2500</td>\n",
       "      <td>NaN</td>\n",
       "      <td>S</td>\n",
       "    </tr>\n",
       "    <tr>\n",
       "      <th>1</th>\n",
       "      <td>2</td>\n",
       "      <td>1</td>\n",
       "      <td>1</td>\n",
       "      <td>Cumings, Mrs. John Bradley (Florence Briggs Th...</td>\n",
       "      <td>female</td>\n",
       "      <td>38.0</td>\n",
       "      <td>1</td>\n",
       "      <td>0</td>\n",
       "      <td>PC 17599</td>\n",
       "      <td>71.2833</td>\n",
       "      <td>C85</td>\n",
       "      <td>C</td>\n",
       "    </tr>\n",
       "    <tr>\n",
       "      <th>2</th>\n",
       "      <td>3</td>\n",
       "      <td>1</td>\n",
       "      <td>3</td>\n",
       "      <td>Heikkinen, Miss. Laina</td>\n",
       "      <td>female</td>\n",
       "      <td>26.0</td>\n",
       "      <td>0</td>\n",
       "      <td>0</td>\n",
       "      <td>STON/O2. 3101282</td>\n",
       "      <td>7.9250</td>\n",
       "      <td>NaN</td>\n",
       "      <td>S</td>\n",
       "    </tr>\n",
       "  </tbody>\n",
       "</table>\n",
       "</div>"
      ],
      "text/plain": [
       "   PassengerId  Survived  Pclass  \\\n",
       "0            1         0       3   \n",
       "1            2         1       1   \n",
       "2            3         1       3   \n",
       "\n",
       "                                                Name     Sex   Age  SibSp  \\\n",
       "0                            Braund, Mr. Owen Harris    male  22.0      1   \n",
       "1  Cumings, Mrs. John Bradley (Florence Briggs Th...  female  38.0      1   \n",
       "2                             Heikkinen, Miss. Laina  female  26.0      0   \n",
       "\n",
       "   Parch            Ticket     Fare Cabin Embarked  \n",
       "0      0         A/5 21171   7.2500   NaN        S  \n",
       "1      0          PC 17599  71.2833   C85        C  \n",
       "2      0  STON/O2. 3101282   7.9250   NaN        S  "
      ]
     },
     "execution_count": 103,
     "metadata": {},
     "output_type": "execute_result"
    }
   ],
   "source": [
    "# Dataset Overview\n",
    "titanic_df.head(3)"
   ]
  },
  {
   "cell_type": "code",
   "execution_count": 104,
   "metadata": {},
   "outputs": [
    {
     "name": "stdout",
     "output_type": "stream",
     "text": [
      "(891, 12)\n",
      "There are 891 rows, and 12 columns\n"
     ]
    }
   ],
   "source": [
    "# Number of columns and rows in sales_df\n",
    "print (titanic_df.shape)\n",
    "print(f\"There are {titanic_df.shape[0]} rows, and {titanic_df.shape[1]} columns\")"
   ]
  },
  {
   "cell_type": "code",
   "execution_count": 105,
   "metadata": {},
   "outputs": [
    {
     "name": "stdout",
     "output_type": "stream",
     "text": [
      "<class 'pandas.core.frame.DataFrame'>\n",
      "RangeIndex: 891 entries, 0 to 890\n",
      "Data columns (total 12 columns):\n",
      " #   Column       Non-Null Count  Dtype  \n",
      "---  ------       --------------  -----  \n",
      " 0   PassengerId  891 non-null    int64  \n",
      " 1   Survived     891 non-null    int64  \n",
      " 2   Pclass       891 non-null    int64  \n",
      " 3   Name         891 non-null    object \n",
      " 4   Sex          891 non-null    object \n",
      " 5   Age          714 non-null    float64\n",
      " 6   SibSp        891 non-null    int64  \n",
      " 7   Parch        891 non-null    int64  \n",
      " 8   Ticket       891 non-null    object \n",
      " 9   Fare         891 non-null    float64\n",
      " 10  Cabin        204 non-null    object \n",
      " 11  Embarked     889 non-null    object \n",
      "dtypes: float64(2), int64(5), object(5)\n",
      "memory usage: 83.7+ KB\n"
     ]
    }
   ],
   "source": [
    "# checking info\n",
    "titanic_df.info()"
   ]
  },
  {
   "cell_type": "code",
   "execution_count": 106,
   "metadata": {},
   "outputs": [
    {
     "data": {
      "text/html": [
       "<div>\n",
       "<style scoped>\n",
       "    .dataframe tbody tr th:only-of-type {\n",
       "        vertical-align: middle;\n",
       "    }\n",
       "\n",
       "    .dataframe tbody tr th {\n",
       "        vertical-align: top;\n",
       "    }\n",
       "\n",
       "    .dataframe thead th {\n",
       "        text-align: right;\n",
       "    }\n",
       "</style>\n",
       "<table border=\"1\" class=\"dataframe\">\n",
       "  <thead>\n",
       "    <tr style=\"text-align: right;\">\n",
       "      <th></th>\n",
       "      <th>count</th>\n",
       "      <th>mean</th>\n",
       "      <th>std</th>\n",
       "      <th>min</th>\n",
       "      <th>25%</th>\n",
       "      <th>50%</th>\n",
       "      <th>75%</th>\n",
       "      <th>max</th>\n",
       "    </tr>\n",
       "  </thead>\n",
       "  <tbody>\n",
       "    <tr>\n",
       "      <th>PassengerId</th>\n",
       "      <td>891.0</td>\n",
       "      <td>446.000000</td>\n",
       "      <td>257.353842</td>\n",
       "      <td>1.00</td>\n",
       "      <td>223.5000</td>\n",
       "      <td>446.0000</td>\n",
       "      <td>668.5</td>\n",
       "      <td>891.0000</td>\n",
       "    </tr>\n",
       "    <tr>\n",
       "      <th>Survived</th>\n",
       "      <td>891.0</td>\n",
       "      <td>0.383838</td>\n",
       "      <td>0.486592</td>\n",
       "      <td>0.00</td>\n",
       "      <td>0.0000</td>\n",
       "      <td>0.0000</td>\n",
       "      <td>1.0</td>\n",
       "      <td>1.0000</td>\n",
       "    </tr>\n",
       "    <tr>\n",
       "      <th>Pclass</th>\n",
       "      <td>891.0</td>\n",
       "      <td>2.308642</td>\n",
       "      <td>0.836071</td>\n",
       "      <td>1.00</td>\n",
       "      <td>2.0000</td>\n",
       "      <td>3.0000</td>\n",
       "      <td>3.0</td>\n",
       "      <td>3.0000</td>\n",
       "    </tr>\n",
       "    <tr>\n",
       "      <th>Age</th>\n",
       "      <td>714.0</td>\n",
       "      <td>29.699118</td>\n",
       "      <td>14.526497</td>\n",
       "      <td>0.42</td>\n",
       "      <td>20.1250</td>\n",
       "      <td>28.0000</td>\n",
       "      <td>38.0</td>\n",
       "      <td>80.0000</td>\n",
       "    </tr>\n",
       "    <tr>\n",
       "      <th>SibSp</th>\n",
       "      <td>891.0</td>\n",
       "      <td>0.523008</td>\n",
       "      <td>1.102743</td>\n",
       "      <td>0.00</td>\n",
       "      <td>0.0000</td>\n",
       "      <td>0.0000</td>\n",
       "      <td>1.0</td>\n",
       "      <td>8.0000</td>\n",
       "    </tr>\n",
       "    <tr>\n",
       "      <th>Parch</th>\n",
       "      <td>891.0</td>\n",
       "      <td>0.381594</td>\n",
       "      <td>0.806057</td>\n",
       "      <td>0.00</td>\n",
       "      <td>0.0000</td>\n",
       "      <td>0.0000</td>\n",
       "      <td>0.0</td>\n",
       "      <td>6.0000</td>\n",
       "    </tr>\n",
       "    <tr>\n",
       "      <th>Fare</th>\n",
       "      <td>891.0</td>\n",
       "      <td>32.204208</td>\n",
       "      <td>49.693429</td>\n",
       "      <td>0.00</td>\n",
       "      <td>7.9104</td>\n",
       "      <td>14.4542</td>\n",
       "      <td>31.0</td>\n",
       "      <td>512.3292</td>\n",
       "    </tr>\n",
       "  </tbody>\n",
       "</table>\n",
       "</div>"
      ],
      "text/plain": [
       "             count        mean         std   min       25%       50%    75%  \\\n",
       "PassengerId  891.0  446.000000  257.353842  1.00  223.5000  446.0000  668.5   \n",
       "Survived     891.0    0.383838    0.486592  0.00    0.0000    0.0000    1.0   \n",
       "Pclass       891.0    2.308642    0.836071  1.00    2.0000    3.0000    3.0   \n",
       "Age          714.0   29.699118   14.526497  0.42   20.1250   28.0000   38.0   \n",
       "SibSp        891.0    0.523008    1.102743  0.00    0.0000    0.0000    1.0   \n",
       "Parch        891.0    0.381594    0.806057  0.00    0.0000    0.0000    0.0   \n",
       "Fare         891.0   32.204208   49.693429  0.00    7.9104   14.4542   31.0   \n",
       "\n",
       "                  max  \n",
       "PassengerId  891.0000  \n",
       "Survived       1.0000  \n",
       "Pclass         3.0000  \n",
       "Age           80.0000  \n",
       "SibSp          8.0000  \n",
       "Parch          6.0000  \n",
       "Fare         512.3292  "
      ]
     },
     "execution_count": 106,
     "metadata": {},
     "output_type": "execute_result"
    }
   ],
   "source": [
    "# Describing the data\n",
    "titanic_df.describe().T"
   ]
  },
  {
   "cell_type": "markdown",
   "metadata": {},
   "source": [
    "- The the youngest person the Titanic was about 5 months while the oldest person had 80 years. \n"
   ]
  },
  {
   "cell_type": "code",
   "execution_count": 107,
   "metadata": {},
   "outputs": [
    {
     "name": "stdout",
     "output_type": "stream",
     "text": [
      "There are  0 duplicate(s)\n"
     ]
    }
   ],
   "source": [
    "# checking for duplicates\n",
    "print(\"There are \",titanic_df.duplicated().sum(),\"duplicate(s)\")"
   ]
  },
  {
   "cell_type": "code",
   "execution_count": 58,
   "metadata": {},
   "outputs": [
    {
     "data": {
      "text/plain": [
       "PassengerId      0\n",
       "Survived         0\n",
       "Pclass           0\n",
       "Name             0\n",
       "Sex              0\n",
       "Age            177\n",
       "SibSp            0\n",
       "Parch            0\n",
       "Ticket           0\n",
       "Fare             0\n",
       "Cabin          687\n",
       "Embarked         2\n",
       "dtype: int64"
      ]
     },
     "execution_count": 58,
     "metadata": {},
     "output_type": "execute_result"
    }
   ],
   "source": [
    "# Checking for missing values\n",
    "titanic_df.isnull().sum()"
   ]
  },
  {
   "cell_type": "markdown",
   "metadata": {},
   "source": [
    "#### __2.2.1 Handling Missing Values__ "
   ]
  },
  {
   "cell_type": "markdown",
   "metadata": {},
   "source": [
    "__Missing Values in Embarked__"
   ]
  },
  {
   "cell_type": "code",
   "execution_count": 59,
   "metadata": {},
   "outputs": [],
   "source": [
    "# Fill missing values in embarked by mode\n",
    "mode_embarked = titanic_df['Embarked'].mode()[0]\n",
    "\n",
    "# Fill missing values with the mode\n",
    "titanic_df['Embarked'].fillna(mode_embarked, inplace=True)"
   ]
  },
  {
   "cell_type": "markdown",
   "metadata": {},
   "source": [
    "__Missing Values in Age__"
   ]
  },
  {
   "cell_type": "code",
   "execution_count": 60,
   "metadata": {},
   "outputs": [
    {
     "name": "stdout",
     "output_type": "stream",
     "text": [
      "0\n"
     ]
    }
   ],
   "source": [
    "# Fill missing values in age using random numbers based on mean and age\n",
    "mean_age = titanic_df[\"Age\"].mean()\n",
    "std_age = titanic_df[\"Age\"].std()\n",
    "is_null = titanic_df[\"Age\"].isnull().sum()\n",
    "\n",
    "# Generate random ages within the range of mean_age ± std_age for missing values\n",
    "rand_age = np.random.randint(mean_age - std_age, mean_age + std_age, size=is_null)\n",
    "\n",
    "# Fill NaN values in the \"Age\" column with randomly generated ages\n",
    "age_slice = titanic_df[\"Age\"].copy()\n",
    "age_slice[np.isnan(age_slice)] = rand_age\n",
    "titanic_df[\"Age\"] = age_slice.astype(int)\n",
    "\n",
    "# Check if there are any remaining missing values in the \"Age\" column of the titanic_df DataFrame\n",
    "print(titanic_df[\"Age\"].isnull().sum())"
   ]
  },
  {
   "cell_type": "markdown",
   "metadata": {},
   "source": [
    "__Missing Values in Cabin__"
   ]
  },
  {
   "cell_type": "code",
   "execution_count": 61,
   "metadata": {},
   "outputs": [],
   "source": [
    "deck = {\"A\": 1, \"B\": 2, \"C\": 3, \"D\": 4, \"E\": 5, \"F\": 6, \"G\": 7, \"U\": 8}\n",
    "\n",
    "# Fill missing values in the \"Cabin\" column with \"U0\"\n",
    "titanic_df['Cabin'] = titanic_df['Cabin'].fillna(\"U0\")\n",
    "\n",
    "# Extract the deck information from the \"Cabin\" column\n",
    "titanic_df['Deck'] = titanic_df['Cabin'].map(lambda x: re.compile(\"([a-zA-Z]+)\").search(x).group())\n",
    "\n",
    "# Map the deck values to numerical values using the deck dictionary\n",
    "titanic_df['Deck'] = titanic_df['Deck'].map(deck)\n",
    "\n",
    "# Fill missing values in the \"Deck\" column with 0\n",
    "titanic_df['Deck'] = titanic_df['Deck'].fillna(0)\n",
    "\n",
    "# Convert the \"Deck\" column to integers\n",
    "titanic_df['Deck'] = titanic_df['Deck'].astype(int)\n",
    "\n",
    "# Drop the \"Cabin\" column\n",
    "titanic_df.drop(['Cabin'], axis=1, inplace=True)"
   ]
  },
  {
   "cell_type": "code",
   "execution_count": 62,
   "metadata": {},
   "outputs": [
    {
     "data": {
      "text/plain": [
       "PassengerId    0\n",
       "Survived       0\n",
       "Pclass         0\n",
       "Name           0\n",
       "Sex            0\n",
       "Age            0\n",
       "SibSp          0\n",
       "Parch          0\n",
       "Ticket         0\n",
       "Fare           0\n",
       "Embarked       0\n",
       "Deck           0\n",
       "dtype: int64"
      ]
     },
     "execution_count": 62,
     "metadata": {},
     "output_type": "execute_result"
    }
   ],
   "source": [
    "# Confirm no missing values\n",
    "titanic_df.isnull().sum()"
   ]
  },
  {
   "cell_type": "code",
   "execution_count": 63,
   "metadata": {},
   "outputs": [
    {
     "data": {
      "text/plain": [
       "PassengerId    891\n",
       "Survived         2\n",
       "Pclass           3\n",
       "Name           891\n",
       "Sex              2\n",
       "Age             71\n",
       "SibSp            7\n",
       "Parch            7\n",
       "Ticket         681\n",
       "Fare           248\n",
       "Embarked         3\n",
       "Deck             9\n",
       "dtype: int64"
      ]
     },
     "execution_count": 63,
     "metadata": {},
     "output_type": "execute_result"
    }
   ],
   "source": [
    "# Number of unique values\n",
    "titanic_df.nunique()"
   ]
  },
  {
   "cell_type": "markdown",
   "metadata": {},
   "source": [
    "- Columns with missing values are Age, Cabin and Embarked. "
   ]
  },
  {
   "cell_type": "code",
   "execution_count": 64,
   "metadata": {},
   "outputs": [
    {
     "name": "stdout",
     "output_type": "stream",
     "text": [
      "Unique Titles: ['Mr' 'Mrs' 'Miss' 'Master' 'Don' 'Rev' 'Dr' 'Mme' 'Ms' 'Major' 'Lady'\n",
      " 'Sir' 'Mlle' 'Col' 'Capt' 'Countess' 'Jonkheer']\n"
     ]
    }
   ],
   "source": [
    "# Extract titles from the \"Name\" column\n",
    "titanic_df['Title'] = titanic_df['Name'].apply(lambda name: re.search(r'(\\w+)\\.', name).group(1))\n",
    "\n",
    "# Display unique values in the \"Title\" column\n",
    "unique_titles = titanic_df['Title'].unique()\n",
    "print(\"Unique Titles:\", unique_titles)"
   ]
  },
  {
   "cell_type": "markdown",
   "metadata": {},
   "source": [
    "- The passengers onboard had different status as shown by the titles. "
   ]
  },
  {
   "cell_type": "code",
   "execution_count": 65,
   "metadata": {},
   "outputs": [
    {
     "name": "stdout",
     "output_type": "stream",
     "text": [
      "   SibSp  Parch  Family\n",
      "0      1      0       2\n",
      "1      1      0       2\n",
      "2      0      0       1\n",
      "3      1      0       2\n",
      "4      0      0       1\n"
     ]
    }
   ],
   "source": [
    "# Create the \"Family\" feature by combining \"SibSp\" and \"Parch\"\n",
    "titanic_df['Family'] = titanic_df['SibSp'] + titanic_df['Parch'] + 1\n",
    "\n",
    "# Display the updated DataFrame with the \"Family\" feature\n",
    "print(titanic_df[['SibSp', 'Parch', 'Family']].head())"
   ]
  },
  {
   "cell_type": "markdown",
   "metadata": {},
   "source": [
    "- SibSP and Parch are combined into a more general column family."
   ]
  },
  {
   "cell_type": "markdown",
   "metadata": {},
   "source": [
    "#### __2.3 Univariate Analysis__"
   ]
  },
  {
   "cell_type": "code",
   "execution_count": 66,
   "metadata": {},
   "outputs": [
    {
     "name": "stdout",
     "output_type": "stream",
     "text": [
      "Number of Survivors: 342\n",
      "Number of Non-Survivors: 549\n",
      "Survival Percentage: 38.38%\n",
      "Non-Survival Percentage: 61.62%\n"
     ]
    }
   ],
   "source": [
    "# Calculate the number of survivors\n",
    "num_survivors = titanic_df['Survived'].sum()\n",
    "\n",
    "# Calculate the number of non-survivors\n",
    "num_non_survivors = titanic_df['Survived'].count() - num_survivors\n",
    "\n",
    "# Calculate the total number of passengers\n",
    "total_passengers = titanic_df['Survived'].count()\n",
    "\n",
    "# Calculate the percentage of survivors\n",
    "survival_percentage = (num_survivors / total_passengers) * 100\n",
    "\n",
    "# Calculate the percentage of non-survivors\n",
    "non_survival_percentage = (num_non_survivors / total_passengers) * 100\n",
    "\n",
    "# Print the results\n",
    "print(\"Number of Survivors:\", num_survivors)\n",
    "print(\"Number of Non-Survivors:\", num_non_survivors)\n",
    "print(\"Survival Percentage: {:.2f}%\".format(survival_percentage))\n",
    "print(\"Non-Survival Percentage: {:.2f}%\".format(non_survival_percentage))"
   ]
  },
  {
   "cell_type": "code",
   "execution_count": 67,
   "metadata": {},
   "outputs": [
    {
     "data": {
      "image/png": "[encoded data removed]",
      "text/plain": [
       "<Figure size 500x300 with 1 Axes>"
      ]
     },
     "metadata": {},
     "output_type": "display_data"
    }
   ],
   "source": [
    "# Create a count plot for survivors\n",
    "plt.figure(figsize=(5, 3))\n",
    "# Create a count plot for survivors with blue and yellow bars\n",
    "sns.countplot(x='Survived', data=titanic_df, palette=['blue', 'orange'])\n",
    "# Set the labels for the plot\n",
    "plt.xlabel('Survived')\n",
    "plt.ylabel('Count')\n",
    "plt.title('Count Plot of Survivors in Titanic')\n",
    "\n",
    "# Display the plot\n",
    "plt.show()"
   ]
  },
  {
   "cell_type": "code",
   "execution_count": 68,
   "metadata": {},
   "outputs": [
    {
     "name": "stdout",
     "output_type": "stream",
     "text": [
      "Number of Survivors and Non-survivors in each Pclass:\n",
      "Survived    0    1\n",
      "Pclass            \n",
      "1          80  136\n",
      "2          97   87\n",
      "3         372  119\n"
     ]
    }
   ],
   "source": [
    "# Calculate the number of survivors and non-survivors in each Pclass\n",
    "survivors_by_pclass = titanic_df.groupby(['Pclass', 'Survived']).size().unstack()\n",
    "\n",
    "# Print the results\n",
    "print(\"Number of Survivors and Non-survivors in each Pclass:\")\n",
    "print(survivors_by_pclass)"
   ]
  },
  {
   "cell_type": "markdown",
   "metadata": {},
   "source": [
    "#### __2.4 Bivariate Analysis__"
   ]
  },
  {
   "cell_type": "code",
   "execution_count": 69,
   "metadata": {},
   "outputs": [
    {
     "data": {
      "image/png": "[encoded data removed]",
      "text/plain": [
       "<Figure size 640x480 with 1 Axes>"
      ]
     },
     "metadata": {},
     "output_type": "display_data"
    }
   ],
   "source": [
    "# Calculate the number of survivors and non-survivors in each Pclass\n",
    "survivors_by_pclass = titanic_df.groupby(['Pclass', 'Survived']).size().unstack()\n",
    "\n",
    "# Plot the bar chart\n",
    "survivors_by_pclass.plot(kind='bar', stacked=True)\n",
    "\n",
    "# Set the labels and title for the plot\n",
    "plt.xlabel('Pclass')\n",
    "plt.ylabel('Count')\n",
    "plt.title('Number of Survivors and Non-Survivors in each Pclass')\n",
    "\n",
    "# Display the plot\n",
    "plt.show()"
   ]
  },
  {
   "cell_type": "code",
   "execution_count": 70,
   "metadata": {},
   "outputs": [
    {
     "name": "stdout",
     "output_type": "stream",
     "text": [
      "Number of Males and Females who Survived and Did Not Survive in each Pclass:\n",
      "Pclass  Sex     Survived\n",
      "1       female  0             3\n",
      "                1            91\n",
      "        male    0            77\n",
      "                1            45\n",
      "2       female  0             6\n",
      "                1            70\n",
      "        male    0            91\n",
      "                1            17\n",
      "3       female  0            72\n",
      "                1            72\n",
      "        male    0           300\n",
      "                1            47\n",
      "dtype: int64\n"
     ]
    }
   ],
   "source": [
    "# Calculate the number of males and females who survived and did not survive in each Pclass\n",
    "count_by_pclass_sex_survived = titanic_df.groupby(['Pclass', 'Sex', 'Survived']).size()\n",
    "\n",
    "# Print the results\n",
    "print(\"Number of Males and Females who Survived and Did Not Survive in each Pclass:\")\n",
    "print(count_by_pclass_sex_survived)"
   ]
  },
  {
   "cell_type": "code",
   "execution_count": 71,
   "metadata": {},
   "outputs": [
    {
     "name": "stdout",
     "output_type": "stream",
     "text": [
      "Survival Rate for Males and Females in each Pclass:\n",
      "Pclass  Sex   \n",
      "1       female    96.808511\n",
      "        male      36.885246\n",
      "2       female    92.105263\n",
      "        male      15.740741\n",
      "3       female    50.000000\n",
      "        male      13.544669\n",
      "Name: Survived, dtype: float64\n"
     ]
    }
   ],
   "source": [
    "# Calculate the survival rate for males and females in each Pclass\n",
    "survival_rate_by_pclass_sex = titanic_df.groupby(['Pclass', 'Sex'])['Survived'].mean()*100\n",
    "\n",
    "# Print the results\n",
    "print(\"Survival Rate for Males and Females in each Pclass:\")\n",
    "print(survival_rate_by_pclass_sex)"
   ]
  },
  {
   "cell_type": "markdown",
   "metadata": {},
   "source": [
    "- Survival rate of female passengers in the Titanic was higher in all the three passenger classes. This means gender influenced survival rate in the Titanic. "
   ]
  },
  {
   "cell_type": "code",
   "execution_count": 72,
   "metadata": {},
   "outputs": [
    {
     "name": "stdout",
     "output_type": "stream",
     "text": [
      "Number of Passengers who Embarked from each Port:\n",
      "Embarked\n",
      "S    646\n",
      "C    168\n",
      "Q     77\n",
      "Name: count, dtype: int64\n"
     ]
    }
   ],
   "source": [
    "# Embarkment at Cherbourg (C), Queenstown(Q) and Southampton (S) ports\n",
    "\n",
    "count_by_embarked = titanic_df['Embarked'].value_counts()\n",
    "\n",
    "# Print the results\n",
    "print(\"Number of Passengers who Embarked from each Port:\")\n",
    "print(count_by_embarked)"
   ]
  },
  {
   "cell_type": "code",
   "execution_count": 73,
   "metadata": {},
   "outputs": [
    {
     "data": {
      "image/png": "[encoded data removed]",
      "text/plain": [
       "<Figure size 800x600 with 1 Axes>"
      ]
     },
     "metadata": {},
     "output_type": "display_data"
    }
   ],
   "source": [
    "# Set the figure size\n",
    "plt.figure(figsize=(8, 6))\n",
    "\n",
    "# Define the colors\n",
    "colors = ['blue', 'orange', 'green']\n",
    "\n",
    "# Plot the bar chart with specific colors\n",
    "count_by_embarked.plot(kind='bar', color=colors)\n",
    "\n",
    "# Set the labels and title for the plot\n",
    "plt.xlabel('Embarked')\n",
    "plt.ylabel('Count')\n",
    "plt.title('Number of Passengers who Embarked from each Port')\n",
    "\n",
    "# Display the plot\n",
    "plt.show()"
   ]
  },
  {
   "cell_type": "code",
   "execution_count": 74,
   "metadata": {},
   "outputs": [
    {
     "name": "stdout",
     "output_type": "stream",
     "text": [
      "Number of Passengers who Survived and Did Not Survive based on Embarkation Port:\n",
      "Embarked  Survived\n",
      "C         0            75\n",
      "          1            93\n",
      "Q         0            47\n",
      "          1            30\n",
      "S         0           427\n",
      "          1           219\n",
      "dtype: int64\n"
     ]
    }
   ],
   "source": [
    "# Calculate the number of passengers who survived and did not survive based on embarkation port\n",
    "count_by_embarked_survived = titanic_df.groupby(['Embarked', 'Survived']).size()\n",
    "\n",
    "# Print the results\n",
    "print(\"Number of Passengers who Survived and Did Not Survive based on Embarkation Port:\")\n",
    "print(count_by_embarked_survived)"
   ]
  },
  {
   "cell_type": "code",
   "execution_count": 75,
   "metadata": {},
   "outputs": [
    {
     "data": {
      "text/plain": [
       "<Figure size 800x600 with 0 Axes>"
      ]
     },
     "metadata": {},
     "output_type": "display_data"
    },
    {
     "data": {
      "image/png": "[encoded data removed]",
      "text/plain": [
       "<Figure size 640x480 with 1 Axes>"
      ]
     },
     "metadata": {},
     "output_type": "display_data"
    }
   ],
   "source": [
    "# Reshape the data for plotting\n",
    "count_by_embarked_survived = count_by_embarked_survived.unstack()\n",
    "\n",
    "# Set the figure size\n",
    "plt.figure(figsize=(8, 6))\n",
    "\n",
    "# Plot the bar chart\n",
    "count_by_embarked_survived.plot(kind='bar', stacked=True)\n",
    "\n",
    "# Set the labels and title for the plot\n",
    "plt.xlabel('Embarked')\n",
    "plt.ylabel('Count')\n",
    "plt.title('Number of Passengers who Survived and Did Not Survive based on Embarkation Port')\n",
    "\n",
    "# Display the plot\n",
    "plt.show()"
   ]
  },
  {
   "cell_type": "code",
   "execution_count": 76,
   "metadata": {},
   "outputs": [
    {
     "name": "stdout",
     "output_type": "stream",
     "text": [
      "Survival Rate based on Embarkation Port:\n",
      "Embarked\n",
      "C    55.357143\n",
      "Q    38.961039\n",
      "S    33.900929\n",
      "Name: Survived, dtype: float64\n"
     ]
    }
   ],
   "source": [
    "\n",
    "\n",
    "# Calculate the survival rate based on embarkation port\n",
    "survival_rate_by_embarked = titanic_df.groupby('Embarked')['Survived'].mean() * 100\n",
    "\n",
    "# Display the survival rate as percentages\n",
    "print(\"Survival Rate based on Embarkation Port:\")\n",
    "print(survival_rate_by_embarked)"
   ]
  },
  {
   "cell_type": "markdown",
   "metadata": {},
   "source": [
    "- Survival rate was highest for passengers who embarked at Cherbourg (C) despite a large of passengers embarking at Southampton.  \n"
   ]
  },
  {
   "cell_type": "markdown",
   "metadata": {},
   "source": [
    "#### __2.5 Multivariate Analysis__"
   ]
  },
  {
   "cell_type": "code",
   "execution_count": 77,
   "metadata": {},
   "outputs": [
    {
     "data": {
      "image/png": "[encoded data removed]",
      "text/plain": [
       "<Figure size 1000x800 with 2 Axes>"
      ]
     },
     "metadata": {},
     "output_type": "display_data"
    }
   ],
   "source": [
    "# Select columns for the heatmap\n",
    "columns = ['Survived', 'Pclass', 'Age', 'SibSp', 'Parch', 'Fare']\n",
    "\n",
    "# Create a correlation matrix\n",
    "correlation_matrix = titanic_df[columns].corr()\n",
    "\n",
    "# Set the figure size\n",
    "plt.figure(figsize=(10, 8))\n",
    "\n",
    "# Generate the heatmap\n",
    "sns.heatmap(correlation_matrix, annot=True, cmap='coolwarm')\n",
    "\n",
    "# Set the title for the plot\n",
    "plt.title('Correlation Heatmap - Titanic Dataset')\n",
    "\n",
    "# Display the plot\n",
    "plt.show()"
   ]
  },
  {
   "cell_type": "markdown",
   "metadata": {},
   "source": [
    "- The heatmap shows corelation of the target variable (survived) and the rest of the features. "
   ]
  },
  {
   "cell_type": "markdown",
   "metadata": {},
   "source": [
    "#### __2.6 Hypothesis Testing__"
   ]
  },
  {
   "cell_type": "code",
   "execution_count": 78,
   "metadata": {},
   "outputs": [
    {
     "name": "stdout",
     "output_type": "stream",
     "text": [
      "Chi-square test results:\n",
      "Chi-square value: 5.658395566191973\n",
      "p-value: 0.05906021377221318\n",
      "Fail to reject the null hypothesis: Age did not affect the survival rate.\n"
     ]
    }
   ],
   "source": [
    "# Create age categories\n",
    "titanic_df['AgeCategory'] = pd.cut(titanic_df['Age'], bins=[0, 17, 60, 100], labels=['Child', 'Adult', 'Elderly'])\n",
    "\n",
    "# Create a contingency table of age category and survival\n",
    "contingency_table = pd.crosstab(titanic_df['AgeCategory'], titanic_df['Survived'])\n",
    "\n",
    "# Perform the chi-square test\n",
    "chi2, p_value, _, _ = chi2_contingency(contingency_table)\n",
    "\n",
    "# Define the significance level (alpha)\n",
    "alpha = 0.05\n",
    "\n",
    "# Print the results\n",
    "print(\"Chi-square test results:\")\n",
    "print(\"Chi-square value:\", chi2)\n",
    "print(\"p-value:\", p_value)\n",
    "\n",
    "# Determine whether to reject or fail to reject the null hypothesis\n",
    "if p_value < alpha:\n",
    "    print(\"Reject the null hypothesis: Age affected the survival rate.\")\n",
    "else:\n",
    "    print(\"Fail to reject the null hypothesis: Age did not affect the survival rate.\")"
   ]
  },
  {
   "cell_type": "markdown",
   "metadata": {},
   "source": [
    "#### __3. Data Preparation__ "
   ]
  },
  {
   "cell_type": "code",
   "execution_count": 79,
   "metadata": {},
   "outputs": [
    {
     "name": "stdout",
     "output_type": "stream",
     "text": [
      "PassengerId       int64\n",
      "Survived          int64\n",
      "Pclass            int64\n",
      "Name             object\n",
      "Sex              object\n",
      "Age               int32\n",
      "SibSp             int64\n",
      "Parch             int64\n",
      "Ticket           object\n",
      "Fare            float64\n",
      "Embarked         object\n",
      "Deck              int32\n",
      "Title            object\n",
      "Family            int64\n",
      "AgeCategory    category\n",
      "dtype: object\n"
     ]
    }
   ],
   "source": [
    "# Check the data types of each column in titanic_df\n",
    "data_types = titanic_df.dtypes\n",
    "print(data_types)"
   ]
  },
  {
   "cell_type": "code",
   "execution_count": 80,
   "metadata": {},
   "outputs": [],
   "source": [
    "# Convert fare column to integer\n",
    "titanic_df['Fare'] = titanic_df['Fare'].astype(int)"
   ]
  },
  {
   "cell_type": "code",
   "execution_count": 81,
   "metadata": {},
   "outputs": [],
   "source": [
    "# Map 'female' to 1 and 'male' to 0 in the \"Sex\" column\n",
    "titanic_df['Sex'] = titanic_df['Sex'].map({'female': 1, 'male': 0})"
   ]
  },
  {
   "cell_type": "code",
   "execution_count": 82,
   "metadata": {},
   "outputs": [],
   "source": [
    "# Drop some columns that might not be important in determining survival rate.\n",
    "titanic_df.drop(['Ticket'], axis=1, inplace=True)"
   ]
  },
  {
   "cell_type": "code",
   "execution_count": 83,
   "metadata": {},
   "outputs": [
    {
     "name": "stdout",
     "output_type": "stream",
     "text": [
      "Index(['PassengerId', 'Survived', 'Pclass', 'Name', 'Sex', 'Age', 'SibSp',\n",
      "       'Parch', 'Fare', 'Embarked', 'Deck', 'Title', 'Family', 'AgeCategory'],\n",
      "      dtype='object')\n"
     ]
    }
   ],
   "source": [
    "# Show available columns\n",
    "print(titanic_df.columns)"
   ]
  },
  {
   "cell_type": "code",
   "execution_count": 84,
   "metadata": {},
   "outputs": [
    {
     "name": "stdout",
     "output_type": "stream",
     "text": [
      "Age Categories: ['Adult', 'Child', 'Elderly', NaN]\n",
      "Categories (3, object): ['Child' < 'Adult' < 'Elderly']\n"
     ]
    }
   ],
   "source": [
    "# Display unique values in the \"AgeCategory\" column\n",
    "age_categories = titanic_df[\"AgeCategory\"].unique()\n",
    "print(\"Age Categories:\", age_categories)"
   ]
  },
  {
   "cell_type": "code",
   "execution_count": 85,
   "metadata": {},
   "outputs": [
    {
     "name": "stdout",
     "output_type": "stream",
     "text": [
      "Index(['Survived', 'Pclass', 'Name', 'Sex', 'Age', 'Fare', 'Embarked', 'Deck',\n",
      "       'Title', 'Family', 'AgeCategory'],\n",
      "      dtype='object')\n"
     ]
    }
   ],
   "source": [
    "# Drop columns that are not associated with survival.\n",
    "columns_to_drop = ['PassengerId', 'Parch', 'SibSp']\n",
    "titanic_df = titanic_df.drop(columns=columns_to_drop)\n",
    "\n",
    "# Show updated columns\n",
    "print(titanic_df.columns)"
   ]
  },
  {
   "cell_type": "code",
   "execution_count": 86,
   "metadata": {},
   "outputs": [],
   "source": [
    "titanic_df.reset_index(drop=True, inplace=True)"
   ]
  },
  {
   "cell_type": "code",
   "execution_count": 87,
   "metadata": {},
   "outputs": [
    {
     "data": {
      "text/plain": [
       "Survived          int64\n",
       "Pclass            int64\n",
       "Name             object\n",
       "Sex               int64\n",
       "Age               int32\n",
       "Fare              int32\n",
       "Embarked         object\n",
       "Deck              int32\n",
       "Title            object\n",
       "Family            int64\n",
       "AgeCategory    category\n",
       "dtype: object"
      ]
     },
     "execution_count": 87,
     "metadata": {},
     "output_type": "execute_result"
    }
   ],
   "source": [
    "# Check the data types of columns\n",
    "column_data_types = titanic_df.dtypes\n",
    "column_data_types"
   ]
  },
  {
   "cell_type": "code",
   "execution_count": 88,
   "metadata": {},
   "outputs": [
    {
     "data": {
      "text/html": [
       "<div>\n",
       "<style scoped>\n",
       "    .dataframe tbody tr th:only-of-type {\n",
       "        vertical-align: middle;\n",
       "    }\n",
       "\n",
       "    .dataframe tbody tr th {\n",
       "        vertical-align: top;\n",
       "    }\n",
       "\n",
       "    .dataframe thead th {\n",
       "        text-align: right;\n",
       "    }\n",
       "</style>\n",
       "<table border=\"1\" class=\"dataframe\">\n",
       "  <thead>\n",
       "    <tr style=\"text-align: right;\">\n",
       "      <th></th>\n",
       "      <th>Survived</th>\n",
       "      <th>Total</th>\n",
       "    </tr>\n",
       "  </thead>\n",
       "  <tbody>\n",
       "    <tr>\n",
       "      <th>0</th>\n",
       "      <td>0</td>\n",
       "      <td>549</td>\n",
       "    </tr>\n",
       "    <tr>\n",
       "      <th>1</th>\n",
       "      <td>1</td>\n",
       "      <td>342</td>\n",
       "    </tr>\n",
       "  </tbody>\n",
       "</table>\n",
       "</div>"
      ],
      "text/plain": [
       "   Survived  Total\n",
       "0         0    549\n",
       "1         1    342"
      ]
     },
     "execution_count": 88,
     "metadata": {},
     "output_type": "execute_result"
    }
   ],
   "source": [
    "class_distr= titanic_df['Survived'].value_counts().rename('Total').reset_index()\n",
    "class_distr"
   ]
  },
  {
   "cell_type": "markdown",
   "metadata": {},
   "source": [
    "#### __3.1 Split Dataset into Training and Evaluation__"
   ]
  },
  {
   "cell_type": "markdown",
   "metadata": {},
   "source": [
    "- X = input_data\n",
    "- y = label"
   ]
  },
  {
   "cell_type": "code",
   "execution_count": 89,
   "metadata": {},
   "outputs": [],
   "source": [
    "X = titanic_df.drop(columns=['Survived'])\n",
    "y = titanic_df['Survived']"
   ]
  },
  {
   "cell_type": "code",
   "execution_count": 90,
   "metadata": {},
   "outputs": [
    {
     "data": {
      "text/html": [
       "<div>\n",
       "<style scoped>\n",
       "    .dataframe tbody tr th:only-of-type {\n",
       "        vertical-align: middle;\n",
       "    }\n",
       "\n",
       "    .dataframe tbody tr th {\n",
       "        vertical-align: top;\n",
       "    }\n",
       "\n",
       "    .dataframe thead th {\n",
       "        text-align: right;\n",
       "    }\n",
       "</style>\n",
       "<table border=\"1\" class=\"dataframe\">\n",
       "  <thead>\n",
       "    <tr style=\"text-align: right;\">\n",
       "      <th></th>\n",
       "      <th>Pclass</th>\n",
       "      <th>Name</th>\n",
       "      <th>Sex</th>\n",
       "      <th>Age</th>\n",
       "      <th>Fare</th>\n",
       "      <th>Embarked</th>\n",
       "      <th>Deck</th>\n",
       "      <th>Title</th>\n",
       "      <th>Family</th>\n",
       "      <th>AgeCategory</th>\n",
       "    </tr>\n",
       "  </thead>\n",
       "  <tbody>\n",
       "    <tr>\n",
       "      <th>0</th>\n",
       "      <td>3</td>\n",
       "      <td>Braund, Mr. Owen Harris</td>\n",
       "      <td>0</td>\n",
       "      <td>22</td>\n",
       "      <td>7</td>\n",
       "      <td>S</td>\n",
       "      <td>8</td>\n",
       "      <td>Mr</td>\n",
       "      <td>2</td>\n",
       "      <td>Adult</td>\n",
       "    </tr>\n",
       "    <tr>\n",
       "      <th>1</th>\n",
       "      <td>1</td>\n",
       "      <td>Cumings, Mrs. John Bradley (Florence Briggs Th...</td>\n",
       "      <td>1</td>\n",
       "      <td>38</td>\n",
       "      <td>71</td>\n",
       "      <td>C</td>\n",
       "      <td>3</td>\n",
       "      <td>Mrs</td>\n",
       "      <td>2</td>\n",
       "      <td>Adult</td>\n",
       "    </tr>\n",
       "    <tr>\n",
       "      <th>2</th>\n",
       "      <td>3</td>\n",
       "      <td>Heikkinen, Miss. Laina</td>\n",
       "      <td>1</td>\n",
       "      <td>26</td>\n",
       "      <td>7</td>\n",
       "      <td>S</td>\n",
       "      <td>8</td>\n",
       "      <td>Miss</td>\n",
       "      <td>1</td>\n",
       "      <td>Adult</td>\n",
       "    </tr>\n",
       "    <tr>\n",
       "      <th>3</th>\n",
       "      <td>1</td>\n",
       "      <td>Futrelle, Mrs. Jacques Heath (Lily May Peel)</td>\n",
       "      <td>1</td>\n",
       "      <td>35</td>\n",
       "      <td>53</td>\n",
       "      <td>S</td>\n",
       "      <td>3</td>\n",
       "      <td>Mrs</td>\n",
       "      <td>2</td>\n",
       "      <td>Adult</td>\n",
       "    </tr>\n",
       "    <tr>\n",
       "      <th>4</th>\n",
       "      <td>3</td>\n",
       "      <td>Allen, Mr. William Henry</td>\n",
       "      <td>0</td>\n",
       "      <td>35</td>\n",
       "      <td>8</td>\n",
       "      <td>S</td>\n",
       "      <td>8</td>\n",
       "      <td>Mr</td>\n",
       "      <td>1</td>\n",
       "      <td>Adult</td>\n",
       "    </tr>\n",
       "  </tbody>\n",
       "</table>\n",
       "</div>"
      ],
      "text/plain": [
       "   Pclass                                               Name  Sex  Age  Fare  \\\n",
       "0       3                            Braund, Mr. Owen Harris    0   22     7   \n",
       "1       1  Cumings, Mrs. John Bradley (Florence Briggs Th...    1   38    71   \n",
       "2       3                             Heikkinen, Miss. Laina    1   26     7   \n",
       "3       1       Futrelle, Mrs. Jacques Heath (Lily May Peel)    1   35    53   \n",
       "4       3                           Allen, Mr. William Henry    0   35     8   \n",
       "\n",
       "  Embarked  Deck Title  Family AgeCategory  \n",
       "0        S     8    Mr       2       Adult  \n",
       "1        C     3   Mrs       2       Adult  \n",
       "2        S     8  Miss       1       Adult  \n",
       "3        S     3   Mrs       2       Adult  \n",
       "4        S     8    Mr       1       Adult  "
      ]
     },
     "execution_count": 90,
     "metadata": {},
     "output_type": "execute_result"
    }
   ],
   "source": [
    "X.head ()"
   ]
  },
  {
   "cell_type": "code",
   "execution_count": 91,
   "metadata": {},
   "outputs": [
    {
     "data": {
      "text/plain": [
       "0      0\n",
       "1      1\n",
       "2      1\n",
       "3      1\n",
       "4      0\n",
       "      ..\n",
       "886    0\n",
       "887    1\n",
       "888    0\n",
       "889    1\n",
       "890    0\n",
       "Name: Survived, Length: 891, dtype: int64"
      ]
     },
     "execution_count": 91,
     "metadata": {},
     "output_type": "execute_result"
    }
   ],
   "source": [
    "y\n"
   ]
  },
  {
   "cell_type": "code",
   "execution_count": 92,
   "metadata": {},
   "outputs": [],
   "source": [
    "# Split data into train and test set\n",
    "X_train, X_test, y_train, y_test = train_test_split(X, y, test_size=0.3, random_state=42, stratify=y)"
   ]
  },
  {
   "cell_type": "code",
   "execution_count": 93,
   "metadata": {},
   "outputs": [],
   "source": [
    "encoder = LabelEncoder()\n",
    "y_train_encoded = encoder.fit_transform(y_train)\n",
    "y_test_encoded = encoder.fit_transform(y_test)"
   ]
  },
  {
   "cell_type": "code",
   "execution_count": 94,
   "metadata": {},
   "outputs": [
    {
     "name": "stdout",
     "output_type": "stream",
     "text": [
      "X_train dimension: (623, 10)\n",
      "X_test dimension: (268, 10)\n"
     ]
    }
   ],
   "source": [
    "# check X_train and X_test dimension\n",
    "print('X_train dimension:',X_train.shape)\n",
    "print('X_test dimension:',X_test.shape)"
   ]
  },
  {
   "cell_type": "code",
   "execution_count": 95,
   "metadata": {},
   "outputs": [
    {
     "name": "stdout",
     "output_type": "stream",
     "text": [
      "y_train dimension: (623,)\n",
      "y_test dimension: (268,)\n"
     ]
    }
   ],
   "source": [
    "# Check y_tain and y_test dimension\n",
    "print('y_train dimension:',y_train.shape)\n",
    "print('y_test dimension:',y_test.shape)"
   ]
  },
  {
   "cell_type": "markdown",
   "metadata": {},
   "source": [
    "#### __3.2 Prepare Pipelines__"
   ]
  },
  {
   "cell_type": "code",
   "execution_count": 96,
   "metadata": {},
   "outputs": [
    {
     "data": {
      "text/plain": [
       "Index(['Name', 'Embarked', 'Title', 'AgeCategory'], dtype='object')"
      ]
     },
     "execution_count": 96,
     "metadata": {},
     "output_type": "execute_result"
    }
   ],
   "source": [
    "categorical_columns = X_train.select_dtypes(include=['category', 'object']).columns\n",
    "categorical_columns\n"
   ]
  },
  {
   "cell_type": "code",
   "execution_count": 97,
   "metadata": {},
   "outputs": [
    {
     "data": {
      "text/plain": [
       "Index(['Pclass', 'Sex', 'Family'], dtype='object')"
      ]
     },
     "execution_count": 97,
     "metadata": {},
     "output_type": "execute_result"
    }
   ],
   "source": [
    "numeric_columns = X_train.select_dtypes(include=['int64', 'float64']).columns\n",
    "numeric_columns"
   ]
  },
  {
   "cell_type": "code",
   "execution_count": 98,
   "metadata": {},
   "outputs": [],
   "source": [
    "## Numeric Pipeline\n",
    "numeric_pipeline = Pipeline(steps=[\n",
    "    ('num_imputer', SimpleImputer(strategy='mean')),  # impute numerical columns with mean\n",
    "    ('scaler', StandardScaler())\n",
    "])\n",
    "\n",
    "# Categorical Pipeline\n",
    "categorical_pipeline = Pipeline(steps=[\n",
    "    ('cat_imputer', SimpleImputer(strategy='most_frequent')),  # impute with most frequent\n",
    "    ('encoder', OneHotEncoder(handle_unknown='ignore'))\n",
    "])\n",
    "\n",
    "# Preprocessor (ColumnTransformer)\n",
    "preprocessor = ColumnTransformer(transformers=[\n",
    "    ('num_pipeline', numeric_pipeline, numeric_columns),\n",
    "    ('cat_pipeline', categorical_pipeline, categorical_columns)\n",
    "])\n"
   ]
  },
  {
   "cell_type": "markdown",
   "metadata": {},
   "source": [
    "#### __3.3 Modelling__ "
   ]
  },
  {
   "cell_type": "code",
   "execution_count": 99,
   "metadata": {},
   "outputs": [
    {
     "name": "stdout",
     "output_type": "stream",
     "text": [
      "            model_name  accuracy  precision    recall  f1_score\n",
      "0        Decision_Tree  0.820896   0.820471  0.820896  0.817495\n",
      "1  Logistic_Regression  0.824627   0.823243  0.824627  0.822949\n",
      "2                  KNN  0.817164   0.815703  0.817164  0.815847\n",
      "3        Random_Forest  0.817164   0.815911  0.817164  0.814471\n"
     ]
    }
   ],
   "source": [
    "models = [\n",
    "    ('Decision_Tree', DecisionTreeClassifier(random_state=42)),\n",
    "    ('Logistic_Regression', LogisticRegression(random_state=42)),\n",
    "    ('KNN', KNeighborsClassifier(n_neighbors=5)),\n",
    "    ('Random_Forest', RandomForestClassifier(random_state=42))\n",
    "]\n",
    "\n",
    "all_pipelines = {}\n",
    "all_metrics = {}\n",
    "\n",
    "metric_table = pd.DataFrame(columns=['model_name', 'accuracy','precision', 'recall','f1_score'])\n",
    "\n",
    "for model_name, classifier in models:\n",
    "    # create final pipeline with preprocessor and classifier\n",
    "    final_pipeline = Pipeline(steps=[\n",
    "        ('preprocessor', preprocessor),\n",
    "        ('classifier', classifier)\n",
    "    ])\n",
    "    \n",
    "    # Fit data to pipeline\n",
    "    final_pipeline.fit(X_train, y_train_encoded) \n",
    "    \n",
    "    #Add all pipeline into the all_pipeline dictionary\n",
    "    \n",
    "    all_pipelines[model_name] = final_pipeline\n",
    "    \n",
    "    y_pred = final_pipeline.predict(X_test)\n",
    "    \n",
    "    # Generate classification report for each pipeline or model\n",
    "    metrics = classification_report(y_test_encoded, y_pred, output_dict= True)\n",
    "    all_metrics[model_name] = metrics\n",
    "\n",
    "     # Grab all important metrics \n",
    "    accuracy = metrics['accuracy']\n",
    "    precision = metrics['weighted avg']['precision']\n",
    "    recall = metrics['weighted avg']['recall']\n",
    "    f1 = metrics['weighted avg']['f1-score']\n",
    "\n",
    "    metric_table.loc[len(metric_table)]= [model_name, accuracy, precision, recall, f1]\n",
    "\n",
    "print (metric_table)"
   ]
  },
  {
   "cell_type": "markdown",
   "metadata": {},
   "source": [
    "- The best performing model to predict survival in the titanic dataset is Random_Forest because of its highest f1 score. "
   ]
  },
  {
   "cell_type": "markdown",
   "metadata": {},
   "source": [
    "#### __3.4 Parsing the Best Model__"
   ]
  },
  {
   "cell_type": "code",
   "execution_count": 100,
   "metadata": {},
   "outputs": [
    {
     "data": {
      "text/plain": [
       "['best_model.joblib']"
      ]
     },
     "execution_count": 100,
     "metadata": {},
     "output_type": "execute_result"
    }
   ],
   "source": [
    "\n",
    "\n",
    "\n",
    "# Select the best model based on F1-score\n",
    "best_model = metric_table.loc[metric_table['f1_score'].idxmax(), 'model_name']\n",
    "\n",
    "# Save the best model using joblib\n",
    "joblib.dump(best_model, 'best_model.joblib')"
   ]
  }
 ],
 "metadata": {
  "kernelspec": {
   "display_name": "myvirtual",
   "language": "python",
   "name": "python3"
  },
  "language_info": {
   "codemirror_mode": {
    "name": "ipython",
    "version": 3
   },
   "file_extension": ".py",
   "mimetype": "text/x-python",
   "name": "python",
   "nbconvert_exporter": "python",
   "pygments_lexer": "ipython3",
   "version": "3.10.9"
  }
 },
 "nbformat": 4,
 "nbformat_minor": 2
}
